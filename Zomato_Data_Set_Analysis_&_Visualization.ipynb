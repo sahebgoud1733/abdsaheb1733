{
  "metadata": {
    "kernelspec": {
      "language": "python",
      "display_name": "Python 3",
      "name": "python3"
    },
    "language_info": {
      "pygments_lexer": "ipython3",
      "nbconvert_exporter": "python",
      "version": "3.6.4",
      "file_extension": ".py",
      "codemirror_mode": {
        "name": "ipython",
        "version": 3
      },
      "name": "python",
      "mimetype": "text/x-python"
    },
    "colab": {
      "name": "Zomato Data Set Analysis & Visualization",
      "provenance": [],
      "include_colab_link": true
    }
  },
  "nbformat_minor": 0,
  "nbformat": 4,
  "cells": [
    {
      "cell_type": "markdown",
      "metadata": {
        "id": "view-in-github",
        "colab_type": "text"
      },
      "source": [
        "<a href=\"https://colab.research.google.com/github/sahebgoud1733/abdsaheb1733/blob/main/Zomato_Data_Set_Analysis_%26_Visualization.ipynb\" target=\"_parent\"><img src=\"https://colab.research.google.com/assets/colab-badge.svg\" alt=\"Open In Colab\"/></a>"
      ]
    },
    {
      "source": [
        "# IMPORTANT: RUN THIS CELL IN ORDER TO IMPORT YOUR KAGGLE DATA SOURCES,\n",
        "# THEN FEEL FREE TO DELETE THIS CELL.\n",
        "# NOTE: THIS NOTEBOOK ENVIRONMENT DIFFERS FROM KAGGLE'S PYTHON\n",
        "# ENVIRONMENT SO THERE MAY BE MISSING LIBRARIES USED BY YOUR\n",
        "# NOTEBOOK.\n",
        "import kagglehub\n",
        "himanshupoddar_zomato_bangalore_restaurants_path = kagglehub.dataset_download('himanshupoddar/zomato-bangalore-restaurants')\n",
        "\n",
        "print('Data source import complete.')\n"
      ],
      "metadata": {
        "id": "t9QeLq3hd8Ei"
      },
      "cell_type": "code",
      "outputs": [],
      "execution_count": null
    },
    {
      "cell_type": "markdown",
      "source": [
        "# **Zomato Data Set Analysis and Visualization**\n"
      ],
      "metadata": {
        "id": "oVPa9n6Id8E6"
      }
    },
    {
      "cell_type": "markdown",
      "source": [
        "![](http://mc.webpcache.epapr.in/discover.php?in=https://mcmscache.epapr.in/post_images/website_350/post_21404986/full.jpg)"
      ],
      "metadata": {
        "id": "1Y7UOal7d8FB"
      }
    },
    {
      "cell_type": "markdown",
      "source": [
        "## Importing Libraries"
      ],
      "metadata": {
        "id": "nl385Cgld8FD"
      }
    },
    {
      "cell_type": "code",
      "source": [
        "import pandas as pd\n",
        "import numpy as np\n",
        "import matplotlib.pyplot as plt\n",
        "import seaborn as sns\n",
        "plt.style.use('dark_background')"
      ],
      "metadata": {
        "execution": {
          "iopub.status.busy": "2021-06-01T09:33:24.912795Z",
          "iopub.execute_input": "2021-06-01T09:33:24.913497Z",
          "iopub.status.idle": "2021-06-01T09:33:24.92086Z",
          "shell.execute_reply.started": "2021-06-01T09:33:24.913449Z",
          "shell.execute_reply": "2021-06-01T09:33:24.919625Z"
        },
        "trusted": true,
        "id": "5oB-ImRTd8FE"
      },
      "execution_count": null,
      "outputs": []
    },
    {
      "cell_type": "markdown",
      "source": [
        "## Reading CSV"
      ],
      "metadata": {
        "id": "PwXXBcMMd8FG"
      }
    },
    {
      "cell_type": "code",
      "source": [
        "df = pd.read_csv('../input/zomato-bangalore-restaurants/zomato.csv')\n",
        "df.head()"
      ],
      "metadata": {
        "execution": {
          "iopub.status.busy": "2021-06-01T09:33:24.939192Z",
          "iopub.execute_input": "2021-06-01T09:33:24.939642Z",
          "iopub.status.idle": "2021-06-01T09:33:31.668996Z",
          "shell.execute_reply.started": "2021-06-01T09:33:24.939605Z",
          "shell.execute_reply": "2021-06-01T09:33:31.667544Z"
        },
        "trusted": true,
        "id": "XDF8v8cGd8FI"
      },
      "execution_count": null,
      "outputs": []
    },
    {
      "cell_type": "code",
      "source": [
        "df.shape"
      ],
      "metadata": {
        "execution": {
          "iopub.status.busy": "2021-06-01T09:33:31.67079Z",
          "iopub.execute_input": "2021-06-01T09:33:31.671132Z",
          "iopub.status.idle": "2021-06-01T09:33:31.681664Z",
          "shell.execute_reply.started": "2021-06-01T09:33:31.671098Z",
          "shell.execute_reply": "2021-06-01T09:33:31.679522Z"
        },
        "trusted": true,
        "id": "gIIgOqIgd8FM"
      },
      "execution_count": null,
      "outputs": []
    },
    {
      "cell_type": "code",
      "source": [
        "df.columns"
      ],
      "metadata": {
        "execution": {
          "iopub.status.busy": "2021-06-01T09:33:31.68443Z",
          "iopub.execute_input": "2021-06-01T09:33:31.684947Z",
          "iopub.status.idle": "2021-06-01T09:33:31.70443Z",
          "shell.execute_reply.started": "2021-06-01T09:33:31.684895Z",
          "shell.execute_reply": "2021-06-01T09:33:31.702945Z"
        },
        "trusted": true,
        "id": "3ZjlBPCpd8FP"
      },
      "execution_count": null,
      "outputs": []
    },
    {
      "cell_type": "code",
      "source": [
        "df = df.drop(['url', 'address', 'phone', 'menu_item', 'dish_liked', 'reviews_list'], axis = 1)\n",
        "df.head()"
      ],
      "metadata": {
        "execution": {
          "iopub.status.busy": "2021-06-01T09:33:31.707035Z",
          "iopub.execute_input": "2021-06-01T09:33:31.707444Z",
          "iopub.status.idle": "2021-06-01T09:33:31.752213Z",
          "shell.execute_reply.started": "2021-06-01T09:33:31.707407Z",
          "shell.execute_reply": "2021-06-01T09:33:31.750793Z"
        },
        "trusted": true,
        "id": "fGzbn_PMd8FR"
      },
      "execution_count": null,
      "outputs": []
    },
    {
      "cell_type": "code",
      "source": [
        "df.info()"
      ],
      "metadata": {
        "execution": {
          "iopub.status.busy": "2021-06-01T09:33:31.753687Z",
          "iopub.execute_input": "2021-06-01T09:33:31.754083Z",
          "iopub.status.idle": "2021-06-01T09:33:31.821202Z",
          "shell.execute_reply.started": "2021-06-01T09:33:31.754049Z",
          "shell.execute_reply": "2021-06-01T09:33:31.81986Z"
        },
        "trusted": true,
        "id": "PCtp1r_Jd8FS"
      },
      "execution_count": null,
      "outputs": []
    },
    {
      "cell_type": "markdown",
      "source": [
        "## Dropping Duplicates"
      ],
      "metadata": {
        "id": "y4Ht-bFmd8FT"
      }
    },
    {
      "cell_type": "code",
      "source": [
        "df.drop_duplicates(inplace = True)\n",
        "df.shape"
      ],
      "metadata": {
        "execution": {
          "iopub.status.busy": "2021-06-01T09:33:31.822832Z",
          "iopub.execute_input": "2021-06-01T09:33:31.823306Z",
          "iopub.status.idle": "2021-06-01T09:33:31.907514Z",
          "shell.execute_reply.started": "2021-06-01T09:33:31.823272Z",
          "shell.execute_reply": "2021-06-01T09:33:31.906251Z"
        },
        "trusted": true,
        "id": "j8ISYCTKd8FU"
      },
      "execution_count": null,
      "outputs": []
    },
    {
      "cell_type": "markdown",
      "source": [
        "## Cleaning Rate Column"
      ],
      "metadata": {
        "id": "uEMvqVJhd8FV"
      }
    },
    {
      "cell_type": "code",
      "source": [
        "df['rate'].unique()"
      ],
      "metadata": {
        "execution": {
          "iopub.status.busy": "2021-06-01T09:33:31.909506Z",
          "iopub.execute_input": "2021-06-01T09:33:31.910103Z",
          "iopub.status.idle": "2021-06-01T09:33:31.922434Z",
          "shell.execute_reply.started": "2021-06-01T09:33:31.910065Z",
          "shell.execute_reply": "2021-06-01T09:33:31.921263Z"
        },
        "trusted": true,
        "id": "_KzCjn-Vd8FW"
      },
      "execution_count": null,
      "outputs": []
    },
    {
      "cell_type": "markdown",
      "source": [
        "## Removing \"NEW\" ,  \"-\" and \"/5\" from Rate Column"
      ],
      "metadata": {
        "id": "buKebBdgd8FX"
      }
    },
    {
      "cell_type": "code",
      "source": [
        "def handlerate(value):\n",
        "    if(value=='NEW' or value=='-'):\n",
        "        return np.nan\n",
        "    else:\n",
        "        value = str(value).split('/')\n",
        "        value = value[0]\n",
        "        return float(value)\n",
        "\n",
        "df['rate'] = df['rate'].apply(handlerate)\n",
        "df['rate'].head()"
      ],
      "metadata": {
        "execution": {
          "iopub.status.busy": "2021-06-01T09:33:31.925812Z",
          "iopub.execute_input": "2021-06-01T09:33:31.926166Z",
          "iopub.status.idle": "2021-06-01T09:33:32.010179Z",
          "shell.execute_reply.started": "2021-06-01T09:33:31.926127Z",
          "shell.execute_reply": "2021-06-01T09:33:32.008876Z"
        },
        "trusted": true,
        "id": "vtpwy9lod8FY"
      },
      "execution_count": null,
      "outputs": []
    },
    {
      "cell_type": "markdown",
      "source": [
        "## Filling Null Values in Rate Column with Mean"
      ],
      "metadata": {
        "id": "O7fBRkbTd8Fa"
      }
    },
    {
      "cell_type": "code",
      "source": [
        "df['rate'].fillna(df['rate'].mean(), inplace = True)\n",
        "df['rate'].isnull().sum()"
      ],
      "metadata": {
        "execution": {
          "iopub.status.busy": "2021-06-01T09:33:32.012685Z",
          "iopub.execute_input": "2021-06-01T09:33:32.013199Z",
          "iopub.status.idle": "2021-06-01T09:33:32.025216Z",
          "shell.execute_reply.started": "2021-06-01T09:33:32.01315Z",
          "shell.execute_reply": "2021-06-01T09:33:32.023947Z"
        },
        "trusted": true,
        "id": "RFUgDgROd8Fc"
      },
      "execution_count": null,
      "outputs": []
    },
    {
      "cell_type": "code",
      "source": [
        "df.info()"
      ],
      "metadata": {
        "scrolled": true,
        "execution": {
          "iopub.status.busy": "2021-06-01T09:33:32.027495Z",
          "iopub.execute_input": "2021-06-01T09:33:32.028031Z",
          "iopub.status.idle": "2021-06-01T09:33:32.097792Z",
          "shell.execute_reply.started": "2021-06-01T09:33:32.027977Z",
          "shell.execute_reply": "2021-06-01T09:33:32.09583Z"
        },
        "trusted": true,
        "id": "LqR5ahu9d8Fe"
      },
      "execution_count": null,
      "outputs": []
    },
    {
      "cell_type": "markdown",
      "source": [
        "## Dropping Null Values"
      ],
      "metadata": {
        "id": "e-PdOaVGd8Ff"
      }
    },
    {
      "cell_type": "code",
      "source": [
        "df.dropna(inplace = True)\n",
        "df.head()"
      ],
      "metadata": {
        "execution": {
          "iopub.status.busy": "2021-06-01T09:33:32.099104Z",
          "iopub.execute_input": "2021-06-01T09:33:32.099557Z",
          "iopub.status.idle": "2021-06-01T09:33:32.170336Z",
          "shell.execute_reply.started": "2021-06-01T09:33:32.099526Z",
          "shell.execute_reply": "2021-06-01T09:33:32.169275Z"
        },
        "trusted": true,
        "id": "BLTMeNF_d8Fg"
      },
      "execution_count": null,
      "outputs": []
    },
    {
      "cell_type": "code",
      "source": [
        "df.rename(columns = {'approx_cost(for two people)':'Cost2plates', 'listed_in(type)':'Type'}, inplace = True)\n",
        "df.head()"
      ],
      "metadata": {
        "execution": {
          "iopub.status.busy": "2021-06-01T09:33:32.17206Z",
          "iopub.execute_input": "2021-06-01T09:33:32.172436Z",
          "iopub.status.idle": "2021-06-01T09:33:32.196428Z",
          "shell.execute_reply.started": "2021-06-01T09:33:32.172403Z",
          "shell.execute_reply": "2021-06-01T09:33:32.195019Z"
        },
        "trusted": true,
        "id": "3TMpxNXtd8Fh"
      },
      "execution_count": null,
      "outputs": []
    },
    {
      "cell_type": "code",
      "source": [
        "df['location'].unique()"
      ],
      "metadata": {
        "execution": {
          "iopub.status.busy": "2021-06-01T09:33:32.198096Z",
          "iopub.execute_input": "2021-06-01T09:33:32.198967Z",
          "iopub.status.idle": "2021-06-01T09:33:32.214787Z",
          "shell.execute_reply.started": "2021-06-01T09:33:32.198921Z",
          "shell.execute_reply": "2021-06-01T09:33:32.213733Z"
        },
        "trusted": true,
        "id": "pbQp4DXud8Fh"
      },
      "execution_count": null,
      "outputs": []
    },
    {
      "cell_type": "code",
      "source": [
        "df['listed_in(city)'].unique()"
      ],
      "metadata": {
        "execution": {
          "iopub.status.busy": "2021-06-01T09:33:32.216891Z",
          "iopub.execute_input": "2021-06-01T09:33:32.217259Z",
          "iopub.status.idle": "2021-06-01T09:33:32.243144Z",
          "shell.execute_reply.started": "2021-06-01T09:33:32.217217Z",
          "shell.execute_reply": "2021-06-01T09:33:32.24212Z"
        },
        "trusted": true,
        "id": "uXy5Dr91d8Fi"
      },
      "execution_count": null,
      "outputs": []
    },
    {
      "cell_type": "markdown",
      "source": [
        "## Listed in(city) and location, both are there, lets keep only one."
      ],
      "metadata": {
        "id": "Oj9Zx5Ajd8Fi"
      }
    },
    {
      "cell_type": "code",
      "source": [
        "df = df.drop(['listed_in(city)'], axis = 1)"
      ],
      "metadata": {
        "execution": {
          "iopub.status.busy": "2021-06-01T09:33:32.244379Z",
          "iopub.execute_input": "2021-06-01T09:33:32.244724Z",
          "iopub.status.idle": "2021-06-01T09:33:32.262804Z",
          "shell.execute_reply.started": "2021-06-01T09:33:32.244674Z",
          "shell.execute_reply": "2021-06-01T09:33:32.261792Z"
        },
        "trusted": true,
        "id": "U0L4YvB7d8Fj"
      },
      "execution_count": null,
      "outputs": []
    },
    {
      "cell_type": "code",
      "source": [
        "df['Cost2plates'].unique()"
      ],
      "metadata": {
        "execution": {
          "iopub.status.busy": "2021-06-01T09:33:32.264842Z",
          "iopub.execute_input": "2021-06-01T09:33:32.266389Z",
          "iopub.status.idle": "2021-06-01T09:33:32.284399Z",
          "shell.execute_reply.started": "2021-06-01T09:33:32.266325Z",
          "shell.execute_reply": "2021-06-01T09:33:32.282679Z"
        },
        "trusted": true,
        "id": "F8c-vEiJd8Fj"
      },
      "execution_count": null,
      "outputs": []
    },
    {
      "cell_type": "markdown",
      "source": [
        "## Removing , from Cost2Plates Column"
      ],
      "metadata": {
        "id": "YIuzzYhdd8Fk"
      }
    },
    {
      "cell_type": "code",
      "source": [
        "def handlecomma(value):\n",
        "    value = str(value)\n",
        "    if ',' in value:\n",
        "        value = value.replace(',', '')\n",
        "        return float(value)\n",
        "    else:\n",
        "        return float(value)\n",
        "\n",
        "df['Cost2plates'] = df['Cost2plates'].apply(handlecomma)\n",
        "df['Cost2plates'].unique()\n",
        ""
      ],
      "metadata": {
        "execution": {
          "iopub.status.busy": "2021-06-01T09:33:32.287076Z",
          "iopub.execute_input": "2021-06-01T09:33:32.287588Z",
          "iopub.status.idle": "2021-06-01T09:33:32.352844Z",
          "shell.execute_reply.started": "2021-06-01T09:33:32.287539Z",
          "shell.execute_reply": "2021-06-01T09:33:32.351108Z"
        },
        "trusted": true,
        "id": "_ukA6Hncd8Fl"
      },
      "execution_count": null,
      "outputs": []
    },
    {
      "cell_type": "code",
      "source": [
        "df.head()"
      ],
      "metadata": {
        "execution": {
          "iopub.status.busy": "2021-06-01T09:33:32.35552Z",
          "iopub.execute_input": "2021-06-01T09:33:32.356213Z",
          "iopub.status.idle": "2021-06-01T09:33:32.379854Z",
          "shell.execute_reply.started": "2021-06-01T09:33:32.356154Z",
          "shell.execute_reply": "2021-06-01T09:33:32.378081Z"
        },
        "trusted": true,
        "id": "xvpBIf7sd8Fm"
      },
      "execution_count": null,
      "outputs": []
    },
    {
      "cell_type": "markdown",
      "source": [
        "## Cleaning Rest Type Column"
      ],
      "metadata": {
        "id": "t2XwKtbnd8Fn"
      }
    },
    {
      "cell_type": "code",
      "source": [
        "rest_types = df['rest_type'].value_counts(ascending  = False)\n",
        "rest_types"
      ],
      "metadata": {
        "execution": {
          "iopub.status.busy": "2021-06-01T09:33:32.381888Z",
          "iopub.execute_input": "2021-06-01T09:33:32.382453Z",
          "iopub.status.idle": "2021-06-01T09:33:32.417647Z",
          "shell.execute_reply.started": "2021-06-01T09:33:32.382399Z",
          "shell.execute_reply": "2021-06-01T09:33:32.416435Z"
        },
        "trusted": true,
        "id": "IVEsamF4d8Fo"
      },
      "execution_count": null,
      "outputs": []
    },
    {
      "cell_type": "code",
      "source": [
        "rest_types_lessthan1000 = rest_types[rest_types<1000]\n",
        "rest_types_lessthan1000"
      ],
      "metadata": {
        "execution": {
          "iopub.status.busy": "2021-06-01T09:33:32.418969Z",
          "iopub.execute_input": "2021-06-01T09:33:32.419264Z",
          "iopub.status.idle": "2021-06-01T09:33:32.437573Z",
          "shell.execute_reply.started": "2021-06-01T09:33:32.419234Z",
          "shell.execute_reply": "2021-06-01T09:33:32.436854Z"
        },
        "trusted": true,
        "id": "RnvmLQpUd8Fp"
      },
      "execution_count": null,
      "outputs": []
    },
    {
      "cell_type": "markdown",
      "source": [
        "## Making Rest Types less than 1000 in frequency as others"
      ],
      "metadata": {
        "id": "_-qUPaJbd8Fr"
      }
    },
    {
      "cell_type": "code",
      "source": [
        "def handle_rest_type(value):\n",
        "    if(value in rest_types_lessthan1000):\n",
        "        return 'others'\n",
        "    else:\n",
        "        return value\n",
        "\n",
        "df['rest_type'] = df['rest_type'].apply(handle_rest_type)\n",
        "df['rest_type'].value_counts()\n",
        ""
      ],
      "metadata": {
        "execution": {
          "iopub.status.busy": "2021-06-01T09:33:32.438562Z",
          "iopub.execute_input": "2021-06-01T09:33:32.438899Z",
          "iopub.status.idle": "2021-06-01T09:33:32.556194Z",
          "shell.execute_reply.started": "2021-06-01T09:33:32.438869Z",
          "shell.execute_reply": "2021-06-01T09:33:32.555118Z"
        },
        "trusted": true,
        "id": "p_GO1_brd8Fs"
      },
      "execution_count": null,
      "outputs": []
    },
    {
      "cell_type": "markdown",
      "source": [
        "## Cleaning Location Column"
      ],
      "metadata": {
        "id": "9GbHrStZd8Fu"
      }
    },
    {
      "cell_type": "code",
      "source": [
        "location = df['location'].value_counts(ascending  = False)\n",
        "\n",
        "location_lessthan300 = location[location<300]\n",
        "\n",
        "\n",
        "\n",
        "def handle_location(value):\n",
        "    if(value in location_lessthan300):\n",
        "        return 'others'\n",
        "    else:\n",
        "        return value\n",
        "\n",
        "df['location'] = df['location'].apply(handle_location)\n",
        "df['location'].value_counts()"
      ],
      "metadata": {
        "execution": {
          "iopub.status.busy": "2021-06-01T09:33:32.557451Z",
          "iopub.execute_input": "2021-06-01T09:33:32.557811Z",
          "iopub.status.idle": "2021-06-01T09:33:32.673197Z",
          "shell.execute_reply.started": "2021-06-01T09:33:32.557779Z",
          "shell.execute_reply": "2021-06-01T09:33:32.671853Z"
        },
        "trusted": true,
        "id": "ToNiTycUd8Fv"
      },
      "execution_count": null,
      "outputs": []
    },
    {
      "cell_type": "markdown",
      "source": [
        "## Cleaning Cuisines Column"
      ],
      "metadata": {
        "id": "aYbZwzgtd8Fw"
      }
    },
    {
      "cell_type": "code",
      "source": [
        "cuisines = df['cuisines'].value_counts(ascending  = False)\n",
        "\n",
        "\n",
        "cuisines_lessthan100 = cuisines[cuisines<100]\n",
        "\n",
        "\n",
        "\n",
        "def handle_cuisines(value):\n",
        "    if(value in cuisines_lessthan100):\n",
        "        return 'others'\n",
        "    else:\n",
        "        return value\n",
        "\n",
        "df['cuisines'] = df['cuisines'].apply(handle_cuisines)\n",
        "df['cuisines'].value_counts()\n"
      ],
      "metadata": {
        "execution": {
          "iopub.status.busy": "2021-06-01T09:33:32.678474Z",
          "iopub.execute_input": "2021-06-01T09:33:32.678845Z",
          "iopub.status.idle": "2021-06-01T09:33:32.801248Z",
          "shell.execute_reply.started": "2021-06-01T09:33:32.678811Z",
          "shell.execute_reply": "2021-06-01T09:33:32.799868Z"
        },
        "trusted": true,
        "id": "qAKECf5gd8GD"
      },
      "execution_count": null,
      "outputs": []
    },
    {
      "cell_type": "code",
      "source": [
        "df.head()"
      ],
      "metadata": {
        "execution": {
          "iopub.status.busy": "2021-06-01T09:33:32.804476Z",
          "iopub.execute_input": "2021-06-01T09:33:32.805181Z",
          "iopub.status.idle": "2021-06-01T09:33:32.825438Z",
          "shell.execute_reply.started": "2021-06-01T09:33:32.80498Z",
          "shell.execute_reply": "2021-06-01T09:33:32.824208Z"
        },
        "trusted": true,
        "id": "kjXQtwMbd8GE"
      },
      "execution_count": null,
      "outputs": []
    },
    {
      "cell_type": "markdown",
      "source": [
        "## **Data is Clean, Lets jump to Visualization**"
      ],
      "metadata": {
        "id": "GOA1Y79cd8GF"
      }
    },
    {
      "cell_type": "markdown",
      "source": [
        "## Count Plot of Various Locations"
      ],
      "metadata": {
        "id": "5ZrysIL3d8GG"
      }
    },
    {
      "cell_type": "code",
      "source": [
        "plt.figure(figsize = (16,10))\n",
        "ax = sns.countplot(df['location'])\n",
        "plt.xticks(rotation=90)"
      ],
      "metadata": {
        "execution": {
          "iopub.status.busy": "2021-06-01T09:37:04.547061Z",
          "iopub.execute_input": "2021-06-01T09:37:04.547529Z",
          "iopub.status.idle": "2021-06-01T09:37:05.164014Z",
          "shell.execute_reply.started": "2021-06-01T09:37:04.547494Z",
          "shell.execute_reply": "2021-06-01T09:37:05.162904Z"
        },
        "trusted": true,
        "id": "k6DPAP7Ld8GG"
      },
      "execution_count": null,
      "outputs": []
    },
    {
      "cell_type": "markdown",
      "source": [
        "## Visualizing Online Order"
      ],
      "metadata": {
        "id": "FXQTqoAWd8GH"
      }
    },
    {
      "cell_type": "code",
      "source": [
        "plt.figure(figsize = (6,6))\n",
        "sns.countplot(df['online_order'], palette = 'inferno')"
      ],
      "metadata": {
        "execution": {
          "iopub.status.busy": "2021-06-01T09:33:33.426316Z",
          "iopub.execute_input": "2021-06-01T09:33:33.426629Z",
          "iopub.status.idle": "2021-06-01T09:33:33.61505Z",
          "shell.execute_reply.started": "2021-06-01T09:33:33.426595Z",
          "shell.execute_reply": "2021-06-01T09:33:33.613507Z"
        },
        "trusted": true,
        "id": "Opk1Rn6Hd8GH"
      },
      "execution_count": null,
      "outputs": []
    },
    {
      "cell_type": "markdown",
      "source": [
        "## Visualizing Book Table"
      ],
      "metadata": {
        "id": "70nP0_e1d8GI"
      }
    },
    {
      "cell_type": "code",
      "source": [
        "plt.figure(figsize = (6,6))\n",
        "sns.countplot(df['book_table'], palette = 'rainbow')"
      ],
      "metadata": {
        "execution": {
          "iopub.status.busy": "2021-06-01T09:33:33.61653Z",
          "iopub.execute_input": "2021-06-01T09:33:33.616832Z",
          "iopub.status.idle": "2021-06-01T09:33:33.78761Z",
          "shell.execute_reply.started": "2021-06-01T09:33:33.616802Z",
          "shell.execute_reply": "2021-06-01T09:33:33.786428Z"
        },
        "trusted": true,
        "id": "KOxBTkSwd8GJ"
      },
      "execution_count": null,
      "outputs": []
    },
    {
      "cell_type": "markdown",
      "source": [
        "## Visualizing Online Order vs Rate"
      ],
      "metadata": {
        "id": "ZAoSKo4hd8GK"
      }
    },
    {
      "cell_type": "code",
      "source": [
        "plt.figure(figsize = (6,6))\n",
        "sns.boxplot(x = 'online_order', y = 'rate', data = df)"
      ],
      "metadata": {
        "execution": {
          "iopub.status.busy": "2021-06-01T09:33:33.790128Z",
          "iopub.execute_input": "2021-06-01T09:33:33.790685Z",
          "iopub.status.idle": "2021-06-01T09:33:34.297863Z",
          "shell.execute_reply.started": "2021-06-01T09:33:33.790461Z",
          "shell.execute_reply": "2021-06-01T09:33:34.296631Z"
        },
        "trusted": true,
        "id": "rw2ZCbwwd8GM"
      },
      "execution_count": null,
      "outputs": []
    },
    {
      "cell_type": "markdown",
      "source": [
        "## Visualizing Book Table vs Rate"
      ],
      "metadata": {
        "id": "76YtMioQd8GO"
      }
    },
    {
      "cell_type": "code",
      "source": [
        "plt.figure(figsize = (6,6))\n",
        "sns.boxplot(x = 'book_table', y = 'rate', data = df)"
      ],
      "metadata": {
        "execution": {
          "iopub.status.busy": "2021-06-01T09:33:34.299252Z",
          "iopub.execute_input": "2021-06-01T09:33:34.299547Z",
          "iopub.status.idle": "2021-06-01T09:33:34.483811Z",
          "shell.execute_reply.started": "2021-06-01T09:33:34.299515Z",
          "shell.execute_reply": "2021-06-01T09:33:34.482868Z"
        },
        "trusted": true,
        "id": "IQjyjiwfd8GP"
      },
      "execution_count": null,
      "outputs": []
    },
    {
      "cell_type": "markdown",
      "source": [
        "## Visualizing Online Order Facility, Location Wise"
      ],
      "metadata": {
        "id": "NsVdDRK5d8GR"
      }
    },
    {
      "cell_type": "code",
      "source": [
        "df1 = df.groupby(['location','online_order'])['name'].count()\n",
        "df1.to_csv('location_online.csv')\n",
        "df1 = pd.read_csv('location_online.csv')\n",
        "df1 = pd.pivot_table(df1, values=None, index=['location'], columns=['online_order'], fill_value=0, aggfunc=np.sum)\n",
        "df1"
      ],
      "metadata": {
        "execution": {
          "iopub.status.busy": "2021-06-01T09:33:34.484941Z",
          "iopub.execute_input": "2021-06-01T09:33:34.485373Z",
          "iopub.status.idle": "2021-06-01T09:33:34.535096Z",
          "shell.execute_reply.started": "2021-06-01T09:33:34.485329Z",
          "shell.execute_reply": "2021-06-01T09:33:34.533501Z"
        },
        "trusted": true,
        "id": "dxdX3IDtd8GS"
      },
      "execution_count": null,
      "outputs": []
    },
    {
      "cell_type": "code",
      "source": [
        "df1.plot(kind = 'bar', figsize = (15,8))"
      ],
      "metadata": {
        "execution": {
          "iopub.status.busy": "2021-06-01T09:33:34.536314Z",
          "iopub.execute_input": "2021-06-01T09:33:34.53676Z",
          "iopub.status.idle": "2021-06-01T09:33:35.279875Z",
          "shell.execute_reply.started": "2021-06-01T09:33:34.536729Z",
          "shell.execute_reply": "2021-06-01T09:33:35.278564Z"
        },
        "trusted": true,
        "id": "VHSp6umjd8GT"
      },
      "execution_count": null,
      "outputs": []
    },
    {
      "cell_type": "markdown",
      "source": [
        "## Visualizing Book Table Facility, Location Wise"
      ],
      "metadata": {
        "id": "ROhAcYH8d8GU"
      }
    },
    {
      "cell_type": "code",
      "source": [
        "df2 = df.groupby(['location','book_table'])['name'].count()\n",
        "df2.to_csv('location_booktable.csv')\n",
        "df2 = pd.read_csv('location_booktable.csv')\n",
        "df2 = pd.pivot_table(df2, values=None, index=['location'], columns=['book_table'], fill_value=0, aggfunc=np.sum)\n",
        "df2"
      ],
      "metadata": {
        "execution": {
          "iopub.status.busy": "2021-06-01T09:33:35.281449Z",
          "iopub.execute_input": "2021-06-01T09:33:35.281823Z",
          "iopub.status.idle": "2021-06-01T09:33:35.336095Z",
          "shell.execute_reply.started": "2021-06-01T09:33:35.281782Z",
          "shell.execute_reply": "2021-06-01T09:33:35.334911Z"
        },
        "trusted": true,
        "id": "5xsd1kI_d8GV"
      },
      "execution_count": null,
      "outputs": []
    },
    {
      "cell_type": "code",
      "source": [
        "df2.plot(kind = 'bar', figsize = (15,8))"
      ],
      "metadata": {
        "execution": {
          "iopub.status.busy": "2021-06-01T09:33:35.337184Z",
          "iopub.execute_input": "2021-06-01T09:33:35.337491Z",
          "iopub.status.idle": "2021-06-01T09:33:36.134764Z",
          "shell.execute_reply.started": "2021-06-01T09:33:35.337462Z",
          "shell.execute_reply": "2021-06-01T09:33:36.133502Z"
        },
        "trusted": true,
        "id": "Pae3dr8nd8GW"
      },
      "execution_count": null,
      "outputs": []
    },
    {
      "cell_type": "markdown",
      "source": [
        "## Visualizing Types of Restaurents vs Rate"
      ],
      "metadata": {
        "id": "NpC-4ocAd8GX"
      }
    },
    {
      "cell_type": "code",
      "source": [
        "plt.figure(figsize = (14, 8))\n",
        "sns.boxplot(x = 'Type', y = 'rate', data = df, palette = 'inferno')"
      ],
      "metadata": {
        "execution": {
          "iopub.status.busy": "2021-06-01T09:33:36.136438Z",
          "iopub.execute_input": "2021-06-01T09:33:36.136995Z",
          "iopub.status.idle": "2021-06-01T09:33:36.463095Z",
          "shell.execute_reply.started": "2021-06-01T09:33:36.136948Z",
          "shell.execute_reply": "2021-06-01T09:33:36.462049Z"
        },
        "trusted": true,
        "id": "4ul90eqqd8GY"
      },
      "execution_count": null,
      "outputs": []
    },
    {
      "cell_type": "markdown",
      "source": [
        "## Grouping Types of Restaurents, location wise"
      ],
      "metadata": {
        "id": "LZsxFiG6d8GZ"
      }
    },
    {
      "cell_type": "code",
      "source": [
        "df3 = df.groupby(['location','Type'])['name'].count()\n",
        "df3.to_csv('location_Type.csv')\n",
        "df3 = pd.read_csv('location_Type.csv')\n",
        "df3 = pd.pivot_table(df3, values=None, index=['location'], columns=['Type'], fill_value=0, aggfunc=np.sum)\n",
        "df3"
      ],
      "metadata": {
        "execution": {
          "iopub.status.busy": "2021-06-01T09:33:36.464778Z",
          "iopub.execute_input": "2021-06-01T09:33:36.465522Z",
          "iopub.status.idle": "2021-06-01T09:33:36.53379Z",
          "shell.execute_reply.started": "2021-06-01T09:33:36.465464Z",
          "shell.execute_reply": "2021-06-01T09:33:36.532953Z"
        },
        "trusted": true,
        "id": "XjMq26d7d8Ga"
      },
      "execution_count": null,
      "outputs": []
    },
    {
      "cell_type": "code",
      "source": [
        "df3.plot(kind = 'bar', figsize = (36,8))"
      ],
      "metadata": {
        "execution": {
          "iopub.status.busy": "2021-06-01T09:33:36.534999Z",
          "iopub.execute_input": "2021-06-01T09:33:36.535465Z",
          "iopub.status.idle": "2021-06-01T09:33:38.074297Z",
          "shell.execute_reply.started": "2021-06-01T09:33:36.53541Z",
          "shell.execute_reply": "2021-06-01T09:33:38.07279Z"
        },
        "trusted": true,
        "id": "tajFGu9ad8Ga"
      },
      "execution_count": null,
      "outputs": []
    },
    {
      "cell_type": "markdown",
      "source": [
        "## No. of Votes, Location Wise"
      ],
      "metadata": {
        "id": "IVdP7Vx-d8Gd"
      }
    },
    {
      "cell_type": "code",
      "source": [
        "df4 = df[['location', 'votes']]\n",
        "df4.drop_duplicates()\n",
        "df5 = df4.groupby(['location'])['votes'].sum()\n",
        "df5 = df5.to_frame()\n",
        "df5 = df5.sort_values('votes', ascending=False)\n",
        "df5.head()"
      ],
      "metadata": {
        "execution": {
          "iopub.status.busy": "2021-06-01T09:41:49.57777Z",
          "iopub.execute_input": "2021-06-01T09:41:49.578134Z",
          "iopub.status.idle": "2021-06-01T09:41:49.609509Z",
          "shell.execute_reply.started": "2021-06-01T09:41:49.578105Z",
          "shell.execute_reply": "2021-06-01T09:41:49.608132Z"
        },
        "trusted": true,
        "id": "Z7VCmz53d8Gf"
      },
      "execution_count": null,
      "outputs": []
    },
    {
      "cell_type": "code",
      "source": [
        "plt.figure(figsize = (15,8))\n",
        "sns.barplot(df5.index , df5['votes'])\n",
        "plt.xticks(rotation = 90)"
      ],
      "metadata": {
        "execution": {
          "iopub.status.busy": "2021-06-01T09:42:51.938105Z",
          "iopub.execute_input": "2021-06-01T09:42:51.938446Z",
          "iopub.status.idle": "2021-06-01T09:42:52.484869Z",
          "shell.execute_reply.started": "2021-06-01T09:42:51.938417Z",
          "shell.execute_reply": "2021-06-01T09:42:52.48388Z"
        },
        "trusted": true,
        "id": "P_nS4dp6d8Gh"
      },
      "execution_count": null,
      "outputs": []
    },
    {
      "cell_type": "code",
      "source": [
        "df.head()"
      ],
      "metadata": {
        "execution": {
          "iopub.status.busy": "2021-06-01T09:33:40.830958Z",
          "iopub.execute_input": "2021-06-01T09:33:40.831409Z",
          "iopub.status.idle": "2021-06-01T09:33:40.856217Z",
          "shell.execute_reply.started": "2021-06-01T09:33:40.831364Z",
          "shell.execute_reply": "2021-06-01T09:33:40.854211Z"
        },
        "trusted": true,
        "id": "mG0KQq19d8Gi"
      },
      "execution_count": null,
      "outputs": []
    },
    {
      "cell_type": "markdown",
      "source": [
        "## Visualizing Top Cuisines"
      ],
      "metadata": {
        "id": "XmxGekPkd8Gj"
      }
    },
    {
      "cell_type": "code",
      "source": [
        "df6 = df[['cuisines', 'votes']]\n",
        "df6.drop_duplicates()\n",
        "df7 = df6.groupby(['cuisines'])['votes'].sum()\n",
        "df7 = df7.to_frame()\n",
        "df7 = df7.sort_values('votes', ascending=False)\n",
        "df7.head()"
      ],
      "metadata": {
        "execution": {
          "iopub.status.busy": "2021-06-01T09:46:03.838319Z",
          "iopub.execute_input": "2021-06-01T09:46:03.838762Z",
          "iopub.status.idle": "2021-06-01T09:46:03.867414Z",
          "shell.execute_reply.started": "2021-06-01T09:46:03.838722Z",
          "shell.execute_reply": "2021-06-01T09:46:03.866637Z"
        },
        "trusted": true,
        "id": "vpBCaM-ld8Gk"
      },
      "execution_count": null,
      "outputs": []
    },
    {
      "cell_type": "code",
      "source": [
        "df7 = df7.iloc[1:, :]\n",
        "df7.head()"
      ],
      "metadata": {
        "execution": {
          "iopub.status.busy": "2021-06-01T09:48:05.757985Z",
          "iopub.execute_input": "2021-06-01T09:48:05.758506Z",
          "iopub.status.idle": "2021-06-01T09:48:05.769798Z",
          "shell.execute_reply.started": "2021-06-01T09:48:05.758474Z",
          "shell.execute_reply": "2021-06-01T09:48:05.768645Z"
        },
        "trusted": true,
        "id": "OkTWRZtzd8Gl"
      },
      "execution_count": null,
      "outputs": []
    },
    {
      "cell_type": "code",
      "source": [
        "plt.figure(figsize = (15,8))\n",
        "sns.barplot(df7.index , df7['votes'])\n",
        "plt.xticks(rotation = 90)"
      ],
      "metadata": {
        "execution": {
          "iopub.status.busy": "2021-06-01T09:48:09.068127Z",
          "iopub.execute_input": "2021-06-01T09:48:09.06856Z",
          "iopub.status.idle": "2021-06-01T09:48:10.574339Z",
          "shell.execute_reply.started": "2021-06-01T09:48:09.068524Z",
          "shell.execute_reply": "2021-06-01T09:48:10.573554Z"
        },
        "trusted": true,
        "id": "-D0TTxyfd8Gl"
      },
      "execution_count": null,
      "outputs": []
    },
    {
      "cell_type": "code",
      "source": [],
      "metadata": {
        "id": "oJQ58StQd8Gm"
      },
      "execution_count": null,
      "outputs": []
    }
  ]
}